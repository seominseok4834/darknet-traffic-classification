{
  "cells": [
    {
      "cell_type": "code",
      "execution_count": 1,
      "id": "nQTuzyAHBpvT",
      "metadata": {
        "colab": {
          "base_uri": "https://localhost:8080/"
        },
        "id": "nQTuzyAHBpvT",
        "outputId": "6a0aefb8-0721-46ea-c555-adc41fef0f1e"
      },
      "outputs": [
        {
          "name": "stdout",
          "output_type": "stream",
          "text": [
            "Mounted at /content/gdrive/\n"
          ]
        }
      ],
      "source": [
        "from google.colab import drive\n",
        "drive.mount('/content/gdrive/')"
      ]
    },
    {
      "cell_type": "code",
      "execution_count": 2,
      "id": "330bdbfd",
      "metadata": {
        "colab": {
          "base_uri": "https://localhost:8080/"
        },
        "id": "330bdbfd",
        "outputId": "729bc583-7ab6-411e-d6cc-d87a92c2e805"
      },
      "outputs": [
        {
          "data": {
            "text/plain": [
              "(141481, 80)"
            ]
          },
          "execution_count": 2,
          "metadata": {},
          "output_type": "execute_result"
        }
      ],
      "source": [
        "import numpy as np\n",
        "import pandas as pd\n",
        "\n",
        "traffic_df = pd.read_csv('/content/gdrive/MyDrive/CIC-Darknet/darknet_log.csv')\n",
        "traffic_df.shape"
      ]
    },
    {
      "cell_type": "markdown",
      "id": "8076b681",
      "metadata": {
        "id": "8076b681"
      },
      "source": [
        "### Drop Columns"
      ]
    },
    {
      "cell_type": "code",
      "execution_count": 3,
      "id": "dd76892d",
      "metadata": {
        "colab": {
          "base_uri": "https://localhost:8080/",
          "height": 314
        },
        "id": "dd76892d",
        "outputId": "5863999a-a1d9-4587-eca4-75c730b7a788"
      },
      "outputs": [
        {
          "data": {
            "text/html": [
              "\n",
              "  <div id=\"df-3d0f1a89-ce31-4d5f-b27c-47fa811274dc\">\n",
              "    <div class=\"colab-df-container\">\n",
              "      <div>\n",
              "<style scoped>\n",
              "    .dataframe tbody tr th:only-of-type {\n",
              "        vertical-align: middle;\n",
              "    }\n",
              "\n",
              "    .dataframe tbody tr th {\n",
              "        vertical-align: top;\n",
              "    }\n",
              "\n",
              "    .dataframe thead th {\n",
              "        text-align: right;\n",
              "    }\n",
              "</style>\n",
              "<table border=\"1\" class=\"dataframe\">\n",
              "  <thead>\n",
              "    <tr style=\"text-align: right;\">\n",
              "      <th></th>\n",
              "      <th>Src Port</th>\n",
              "      <th>Dst Port</th>\n",
              "      <th>Flow Duration</th>\n",
              "      <th>Total Fwd Packet</th>\n",
              "      <th>Total Length of Fwd Packet</th>\n",
              "      <th>Total Length of Bwd Packet</th>\n",
              "      <th>Fwd Packet Length Std</th>\n",
              "      <th>Flow Bytes/s</th>\n",
              "      <th>Flow Packets/s</th>\n",
              "      <th>Flow IAT Max</th>\n",
              "      <th>...</th>\n",
              "      <th>Packet Length Std</th>\n",
              "      <th>PSH Flag Count</th>\n",
              "      <th>Bwd Packet/Bulk Avg</th>\n",
              "      <th>Bwd Bulk Rate Avg</th>\n",
              "      <th>FWD Init Win Bytes</th>\n",
              "      <th>Bwd Init Win Bytes</th>\n",
              "      <th>Idle Mean</th>\n",
              "      <th>Idle Max</th>\n",
              "      <th>Idle Min</th>\n",
              "      <th>target</th>\n",
              "    </tr>\n",
              "  </thead>\n",
              "  <tbody>\n",
              "    <tr>\n",
              "      <th>0</th>\n",
              "      <td>57158</td>\n",
              "      <td>443</td>\n",
              "      <td>229</td>\n",
              "      <td>1</td>\n",
              "      <td>0</td>\n",
              "      <td>0</td>\n",
              "      <td>0.000</td>\n",
              "      <td>0.000000</td>\n",
              "      <td>9.075050</td>\n",
              "      <td>229</td>\n",
              "      <td>...</td>\n",
              "      <td>0.00</td>\n",
              "      <td>0</td>\n",
              "      <td>0</td>\n",
              "      <td>0</td>\n",
              "      <td>1892</td>\n",
              "      <td>1047</td>\n",
              "      <td>0.000000</td>\n",
              "      <td>0.000000</td>\n",
              "      <td>0.000000</td>\n",
              "      <td>0</td>\n",
              "    </tr>\n",
              "    <tr>\n",
              "      <th>1</th>\n",
              "      <td>57159</td>\n",
              "      <td>443</td>\n",
              "      <td>407</td>\n",
              "      <td>1</td>\n",
              "      <td>0</td>\n",
              "      <td>0</td>\n",
              "      <td>0.000</td>\n",
              "      <td>0.000000</td>\n",
              "      <td>8.500048</td>\n",
              "      <td>407</td>\n",
              "      <td>...</td>\n",
              "      <td>0.00</td>\n",
              "      <td>0</td>\n",
              "      <td>0</td>\n",
              "      <td>0</td>\n",
              "      <td>1987</td>\n",
              "      <td>1047</td>\n",
              "      <td>0.000000</td>\n",
              "      <td>0.000000</td>\n",
              "      <td>0.000000</td>\n",
              "      <td>0</td>\n",
              "    </tr>\n",
              "    <tr>\n",
              "      <th>2</th>\n",
              "      <td>57160</td>\n",
              "      <td>443</td>\n",
              "      <td>431</td>\n",
              "      <td>1</td>\n",
              "      <td>0</td>\n",
              "      <td>0</td>\n",
              "      <td>0.000</td>\n",
              "      <td>0.000000</td>\n",
              "      <td>8.442765</td>\n",
              "      <td>431</td>\n",
              "      <td>...</td>\n",
              "      <td>0.00</td>\n",
              "      <td>0</td>\n",
              "      <td>0</td>\n",
              "      <td>0</td>\n",
              "      <td>2049</td>\n",
              "      <td>1047</td>\n",
              "      <td>0.000000</td>\n",
              "      <td>0.000000</td>\n",
              "      <td>0.000000</td>\n",
              "      <td>0</td>\n",
              "    </tr>\n",
              "    <tr>\n",
              "      <th>3</th>\n",
              "      <td>49134</td>\n",
              "      <td>443</td>\n",
              "      <td>359</td>\n",
              "      <td>1</td>\n",
              "      <td>0</td>\n",
              "      <td>0</td>\n",
              "      <td>0.000</td>\n",
              "      <td>0.000000</td>\n",
              "      <td>8.625515</td>\n",
              "      <td>359</td>\n",
              "      <td>...</td>\n",
              "      <td>0.00</td>\n",
              "      <td>0</td>\n",
              "      <td>0</td>\n",
              "      <td>0</td>\n",
              "      <td>2008</td>\n",
              "      <td>1047</td>\n",
              "      <td>0.000000</td>\n",
              "      <td>0.000000</td>\n",
              "      <td>0.000000</td>\n",
              "      <td>0</td>\n",
              "    </tr>\n",
              "    <tr>\n",
              "      <th>4</th>\n",
              "      <td>34697</td>\n",
              "      <td>19305</td>\n",
              "      <td>10778451</td>\n",
              "      <td>591</td>\n",
              "      <td>64530</td>\n",
              "      <td>6659</td>\n",
              "      <td>3.148</td>\n",
              "      <td>8.795696</td>\n",
              "      <td>4.531983</td>\n",
              "      <td>78158</td>\n",
              "      <td>...</td>\n",
              "      <td>4.06</td>\n",
              "      <td>659</td>\n",
              "      <td>659</td>\n",
              "      <td>6605</td>\n",
              "      <td>1382</td>\n",
              "      <td>2320</td>\n",
              "      <td>34.901863</td>\n",
              "      <td>34.901863</td>\n",
              "      <td>34.901863</td>\n",
              "      <td>0</td>\n",
              "    </tr>\n",
              "  </tbody>\n",
              "</table>\n",
              "<p>5 rows × 30 columns</p>\n",
              "</div>\n",
              "      <button class=\"colab-df-convert\" onclick=\"convertToInteractive('df-3d0f1a89-ce31-4d5f-b27c-47fa811274dc')\"\n",
              "              title=\"Convert this dataframe to an interactive table.\"\n",
              "              style=\"display:none;\">\n",
              "        \n",
              "  <svg xmlns=\"http://www.w3.org/2000/svg\" height=\"24px\"viewBox=\"0 0 24 24\"\n",
              "       width=\"24px\">\n",
              "    <path d=\"M0 0h24v24H0V0z\" fill=\"none\"/>\n",
              "    <path d=\"M18.56 5.44l.94 2.06.94-2.06 2.06-.94-2.06-.94-.94-2.06-.94 2.06-2.06.94zm-11 1L8.5 8.5l.94-2.06 2.06-.94-2.06-.94L8.5 2.5l-.94 2.06-2.06.94zm10 10l.94 2.06.94-2.06 2.06-.94-2.06-.94-.94-2.06-.94 2.06-2.06.94z\"/><path d=\"M17.41 7.96l-1.37-1.37c-.4-.4-.92-.59-1.43-.59-.52 0-1.04.2-1.43.59L10.3 9.45l-7.72 7.72c-.78.78-.78 2.05 0 2.83L4 21.41c.39.39.9.59 1.41.59.51 0 1.02-.2 1.41-.59l7.78-7.78 2.81-2.81c.8-.78.8-2.07 0-2.86zM5.41 20L4 18.59l7.72-7.72 1.47 1.35L5.41 20z\"/>\n",
              "  </svg>\n",
              "      </button>\n",
              "      \n",
              "  <style>\n",
              "    .colab-df-container {\n",
              "      display:flex;\n",
              "      flex-wrap:wrap;\n",
              "      gap: 12px;\n",
              "    }\n",
              "\n",
              "    .colab-df-convert {\n",
              "      background-color: #E8F0FE;\n",
              "      border: none;\n",
              "      border-radius: 50%;\n",
              "      cursor: pointer;\n",
              "      display: none;\n",
              "      fill: #1967D2;\n",
              "      height: 32px;\n",
              "      padding: 0 0 0 0;\n",
              "      width: 32px;\n",
              "    }\n",
              "\n",
              "    .colab-df-convert:hover {\n",
              "      background-color: #E2EBFA;\n",
              "      box-shadow: 0px 1px 2px rgba(60, 64, 67, 0.3), 0px 1px 3px 1px rgba(60, 64, 67, 0.15);\n",
              "      fill: #174EA6;\n",
              "    }\n",
              "\n",
              "    [theme=dark] .colab-df-convert {\n",
              "      background-color: #3B4455;\n",
              "      fill: #D2E3FC;\n",
              "    }\n",
              "\n",
              "    [theme=dark] .colab-df-convert:hover {\n",
              "      background-color: #434B5C;\n",
              "      box-shadow: 0px 1px 3px 1px rgba(0, 0, 0, 0.15);\n",
              "      filter: drop-shadow(0px 1px 2px rgba(0, 0, 0, 0.3));\n",
              "      fill: #FFFFFF;\n",
              "    }\n",
              "  </style>\n",
              "\n",
              "      <script>\n",
              "        const buttonEl =\n",
              "          document.querySelector('#df-3d0f1a89-ce31-4d5f-b27c-47fa811274dc button.colab-df-convert');\n",
              "        buttonEl.style.display =\n",
              "          google.colab.kernel.accessAllowed ? 'block' : 'none';\n",
              "\n",
              "        async function convertToInteractive(key) {\n",
              "          const element = document.querySelector('#df-3d0f1a89-ce31-4d5f-b27c-47fa811274dc');\n",
              "          const dataTable =\n",
              "            await google.colab.kernel.invokeFunction('convertToInteractive',\n",
              "                                                     [key], {});\n",
              "          if (!dataTable) return;\n",
              "\n",
              "          const docLinkHtml = 'Like what you see? Visit the ' +\n",
              "            '<a target=\"_blank\" href=https://colab.research.google.com/notebooks/data_table.ipynb>data table notebook</a>'\n",
              "            + ' to learn more about interactive tables.';\n",
              "          element.innerHTML = '';\n",
              "          dataTable['output_type'] = 'display_data';\n",
              "          await google.colab.output.renderOutput(dataTable, element);\n",
              "          const docLink = document.createElement('div');\n",
              "          docLink.innerHTML = docLinkHtml;\n",
              "          element.appendChild(docLink);\n",
              "        }\n",
              "      </script>\n",
              "    </div>\n",
              "  </div>\n",
              "  "
            ],
            "text/plain": [
              "   Src Port  Dst Port  Flow Duration  Total Fwd Packet  \\\n",
              "0     57158       443            229                 1   \n",
              "1     57159       443            407                 1   \n",
              "2     57160       443            431                 1   \n",
              "3     49134       443            359                 1   \n",
              "4     34697     19305       10778451               591   \n",
              "\n",
              "   Total Length of Fwd Packet  Total Length of Bwd Packet  \\\n",
              "0                           0                           0   \n",
              "1                           0                           0   \n",
              "2                           0                           0   \n",
              "3                           0                           0   \n",
              "4                       64530                        6659   \n",
              "\n",
              "   Fwd Packet Length Std  Flow Bytes/s  Flow Packets/s  Flow IAT Max  ...  \\\n",
              "0                  0.000      0.000000        9.075050           229  ...   \n",
              "1                  0.000      0.000000        8.500048           407  ...   \n",
              "2                  0.000      0.000000        8.442765           431  ...   \n",
              "3                  0.000      0.000000        8.625515           359  ...   \n",
              "4                  3.148      8.795696        4.531983         78158  ...   \n",
              "\n",
              "   Packet Length Std  PSH Flag Count  Bwd Packet/Bulk Avg  Bwd Bulk Rate Avg  \\\n",
              "0               0.00               0                    0                  0   \n",
              "1               0.00               0                    0                  0   \n",
              "2               0.00               0                    0                  0   \n",
              "3               0.00               0                    0                  0   \n",
              "4               4.06             659                  659               6605   \n",
              "\n",
              "   FWD Init Win Bytes  Bwd Init Win Bytes  Idle Mean   Idle Max   Idle Min  \\\n",
              "0                1892                1047   0.000000   0.000000   0.000000   \n",
              "1                1987                1047   0.000000   0.000000   0.000000   \n",
              "2                2049                1047   0.000000   0.000000   0.000000   \n",
              "3                2008                1047   0.000000   0.000000   0.000000   \n",
              "4                1382                2320  34.901863  34.901863  34.901863   \n",
              "\n",
              "   target  \n",
              "0       0  \n",
              "1       0  \n",
              "2       0  \n",
              "3       0  \n",
              "4       0  \n",
              "\n",
              "[5 rows x 30 columns]"
            ]
          },
          "execution_count": 3,
          "metadata": {},
          "output_type": "execute_result"
        }
      ],
      "source": [
        "drop_columns = [2, 5, 8, 9, 10, 12, 13, 14, 15, 18, 19, 23, 24, 25, 28, 32, 33, 34, 35, 37, 40, 41, 42, 44, 45, 46, 47, 49, 50, 51, 52, 53, 54, 55, 56, 57, 58, 59, 60, 63, 64, 65, 66, 69, 70, 71, 72, 73, 74, 76]\n",
        "traffic_df.drop(traffic_df.columns[drop_columns], axis=1 ,inplace=True)\n",
        "traffic_df.head()"
      ]
    },
    {
      "cell_type": "markdown",
      "id": "d98c1859",
      "metadata": {
        "id": "d98c1859"
      },
      "source": [
        "### Data Split"
      ]
    },
    {
      "cell_type": "code",
      "execution_count": 4,
      "id": "516e60d9",
      "metadata": {
        "colab": {
          "base_uri": "https://localhost:8080/"
        },
        "id": "516e60d9",
        "outputId": "8510825f-ead8-49a6-8af9-575d915a5646"
      },
      "outputs": [
        {
          "name": "stdout",
          "output_type": "stream",
          "text": [
            "(84888, 29) (84888,)\n",
            "(56593, 29) (56593,)\n"
          ]
        }
      ],
      "source": [
        "from sklearn.model_selection import train_test_split\n",
        "\n",
        "y_traffic_df = traffic_df['target']\n",
        "X_traffic_df = traffic_df.drop('target', axis=1)\n",
        "\n",
        "X_train, X_test, y_train, y_test = train_test_split(X_traffic_df, y_traffic_df, stratify=y_traffic_df, test_size=0.4, random_state=11)\n",
        "print(X_train.shape, y_train.shape)\n",
        "print(X_test.shape, y_test.shape)"
      ]
    },
    {
      "cell_type": "code",
      "execution_count": 5,
      "id": "99408cf6",
      "metadata": {
        "colab": {
          "base_uri": "https://localhost:8080/"
        },
        "id": "99408cf6",
        "outputId": "3a76ddf3-60c2-4f40-9c5b-272c48bb46e6"
      },
      "outputs": [
        {
          "name": "stdout",
          "output_type": "stream",
          "text": [
            "(28296, 29) (28296,)\n",
            "(28297, 29) (28297,)\n"
          ]
        }
      ],
      "source": [
        "X_vali, X_test, y_vali, y_test = train_test_split(X_test, y_test, stratify=y_test, test_size=0.5, random_state=11)\n",
        "print(X_vali.shape, y_vali.shape)\n",
        "print(X_test.shape, y_test.shape)"
      ]
    },
    {
      "cell_type": "markdown",
      "id": "6ad7b948",
      "metadata": {
        "id": "6ad7b948"
      },
      "source": [
        "### train_df"
      ]
    },
    {
      "cell_type": "code",
      "execution_count": 6,
      "id": "f3514de1",
      "metadata": {
        "colab": {
          "base_uri": "https://localhost:8080/"
        },
        "id": "f3514de1",
        "outputId": "47c08cd5-cc77-4077-d0f6-042da355767c"
      },
      "outputs": [
        {
          "data": {
            "text/plain": [
              "(84888, 30)"
            ]
          },
          "execution_count": 6,
          "metadata": {},
          "output_type": "execute_result"
        }
      ],
      "source": [
        "train_df = pd.DataFrame(X_train)\n",
        "train_df['target'] = y_train\n",
        "train_df.shape"
      ]
    },
    {
      "cell_type": "markdown",
      "id": "234d0a8e",
      "metadata": {
        "id": "234d0a8e"
      },
      "source": [
        "### Benign Voip, Darknet Voip"
      ]
    },
    {
      "cell_type": "markdown",
      "id": "d7674f07",
      "metadata": {
        "id": "d7674f07"
      },
      "source": [
        "##### train"
      ]
    },
    {
      "cell_type": "code",
      "execution_count": 8,
      "id": "422932b9",
      "metadata": {
        "colab": {
          "base_uri": "https://localhost:8080/"
        },
        "id": "422932b9",
        "outputId": "9b265143-5094-403e-ea14-15c91ae64aca"
      },
      "outputs": [
        {
          "name": "stdout",
          "output_type": "stream",
          "text": [
            "6     1261\n",
            "14     879\n",
            "Name: target, dtype: int64\n",
            "(2140, 30)\n"
          ]
        }
      ],
      "source": [
        "benign_voip = train_df['target'] == 6\n",
        "darknet_voip = train_df['target'] == 14\n",
        "\n",
        "retrain_label = benign_voip | darknet_voip\n",
        "retrain_df = train_df[retrain_label]\n",
        "print(retrain_df['target'].value_counts())\n",
        "print(retrain_df.shape)"
      ]
    },
    {
      "cell_type": "code",
      "execution_count": 9,
      "id": "325c2eea",
      "metadata": {
        "colab": {
          "base_uri": "https://localhost:8080/"
        },
        "id": "325c2eea",
        "outputId": "803a9e11-8bb5-43ba-d6d8-1bc0e0eedd7e"
      },
      "outputs": [
        {
          "name": "stdout",
          "output_type": "stream",
          "text": [
            "(2140, 29) (2140,)\n"
          ]
        }
      ],
      "source": [
        "y_train2 = retrain_df['target']\n",
        "X_train2 = retrain_df.drop('target', axis=1)\n",
        "print(X_train2.shape, y_train2.shape)"
      ]
    },
    {
      "cell_type": "code",
      "execution_count": 12,
      "id": "wK8QhVk8nA1W",
      "metadata": {
        "id": "wK8QhVk8nA1W"
      },
      "outputs": [],
      "source": [
        "X_train2 = pd.DataFrame(X_train2)\n",
        "X_train2.reset_index(drop=True, inplace=True)"
      ]
    },
    {
      "cell_type": "code",
      "execution_count": 13,
      "id": "L8PngZzoutYm",
      "metadata": {
        "id": "L8PngZzoutYm"
      },
      "outputs": [],
      "source": [
        "y_train2 = pd.DataFrame(y_train2)\n",
        "y_train2.reset_index(drop=True, inplace=True)"
      ]
    },
    {
      "cell_type": "code",
      "execution_count": 14,
      "id": "3Hnj4YrJqpL5",
      "metadata": {
        "colab": {
          "base_uri": "https://localhost:8080/"
        },
        "id": "3Hnj4YrJqpL5",
        "outputId": "a412a095-a0a1-4e64-d796-a6360ad668b1"
      },
      "outputs": [
        {
          "name": "stderr",
          "output_type": "stream",
          "text": [
            "/usr/local/lib/python3.7/dist-packages/sklearn/manifold/_t_sne.py:783: FutureWarning: The default initialization in TSNE will change from 'random' to 'pca' in 1.2.\n",
            "  FutureWarning,\n",
            "/usr/local/lib/python3.7/dist-packages/sklearn/manifold/_t_sne.py:793: FutureWarning: The default learning rate in TSNE will change from 200.0 to 'auto' in 1.2.\n",
            "  FutureWarning,\n"
          ]
        }
      ],
      "source": [
        "from sklearn.manifold import TSNE\n",
        "\n",
        "# 2차원 t-SNE 임베딩\n",
        "tsne_np = TSNE(n_components = 2).fit_transform(X_train2)\n",
        "\n",
        "# numpy array -> DataFrame 변환\n",
        "tsne_df = pd.DataFrame(tsne_np, columns = ['component 0', 'component 1'])"
      ]
    },
    {
      "cell_type": "code",
      "execution_count": 15,
      "id": "uzY-fFX0q0Iv",
      "metadata": {
        "colab": {
          "base_uri": "https://localhost:8080/",
          "height": 279
        },
        "id": "uzY-fFX0q0Iv",
        "outputId": "2f1a05b4-ae56-4025-ce67-38240db8f640"
      },
      "outputs": [
        {
          "data": {
            "image/png": "[encoded data removed]",
            "text/plain": [
              "<Figure size 432x288 with 1 Axes>"
            ]
          },
          "metadata": {
            "needs_background": "light"
          },
          "output_type": "display_data"
        }
      ],
      "source": [
        "import matplotlib.pyplot as plt\n",
        "\n",
        "# 클래스 로드 \n",
        "tsne_df['target'] = np.array(y_train2)\n",
        "\n",
        "# 클래스 분리\n",
        "tsne_df_0 = tsne_df[tsne_df['target'] == 6]\n",
        "tsne_df_1 = tsne_df[tsne_df['target'] == 14]\n",
        "\n",
        "# 클래스 시각화\n",
        "plt.scatter(tsne_df_0['component 0'], tsne_df_0['component 1'], color = 'yellow', label = 'Benign_Voip')\n",
        "plt.scatter(tsne_df_1['component 0'], tsne_df_1['component 1'], color = 'purple', label = 'Darknet_Voip')\n",
        "\n",
        "plt.xlabel('component 0')\n",
        "plt.ylabel('component 1')\n",
        "plt.legend()\n",
        "plt.show()"
      ]
    }
  ],
  "metadata": {
    "colab": {
      "collapsed_sections": [],
      "name": "8.t-sne Visualization.ipynb",
      "provenance": []
    },
    "kernelspec": {
      "display_name": "Python 3 (ipykernel)",
      "language": "python",
      "name": "python3"
    },
    "language_info": {
      "codemirror_mode": {
        "name": "ipython",
        "version": 3
      },
      "file_extension": ".py",
      "mimetype": "text/x-python",
      "name": "python",
      "nbconvert_exporter": "python",
      "pygments_lexer": "ipython3",
      "version": "3.8.10"
    }
  },
  "nbformat": 4,
  "nbformat_minor": 5
}
