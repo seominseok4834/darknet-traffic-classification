{
  "cells": [
    {
      "cell_type": "code",
      "source": [
        "from google.colab import drive\n",
        "drive.mount('/content/gdrive/')"
      ],
      "metadata": {
        "colab": {
          "base_uri": "https://localhost:8080/"
        },
        "id": "iC6h6_me_rPr",
        "outputId": "ceb887d6-5f33-406d-976d-c24778d15516"
      },
      "id": "iC6h6_me_rPr",
      "execution_count": 1,
      "outputs": [
        {
          "output_type": "stream",
          "name": "stdout",
          "text": [
            "Mounted at /content/gdrive/\n"
          ]
        }
      ]
    },
    {
      "cell_type": "code",
      "execution_count": 2,
      "id": "2c362a42",
      "metadata": {
        "id": "2c362a42",
        "colab": {
          "base_uri": "https://localhost:8080/",
          "height": 525
        },
        "outputId": "72b3adc2-56e9-4ae7-e44b-b6f339abec56"
      },
      "outputs": [
        {
          "output_type": "execute_result",
          "data": {
            "text/plain": [
              "                                      Flow ID         Src IP  Src Port  \\\n",
              "0     10.152.152.11-216.58.220.99-57158-443-6  10.152.152.11     57158   \n",
              "1     10.152.152.11-216.58.220.99-57159-443-6  10.152.152.11     57159   \n",
              "2     10.152.152.11-216.58.220.99-57160-443-6  10.152.152.11     57160   \n",
              "3    10.152.152.11-74.125.136.120-49134-443-6  10.152.152.11     49134   \n",
              "4  10.152.152.11-173.194.65.127-34697-19305-6  10.152.152.11     34697   \n",
              "\n",
              "           Dst IP  Dst Port  Protocol               Timestamp  Flow Duration  \\\n",
              "0   216.58.220.99       443         6  24/07/2015 04:09:48 PM            229   \n",
              "1   216.58.220.99       443         6  24/07/2015 04:09:48 PM            407   \n",
              "2   216.58.220.99       443         6  24/07/2015 04:09:48 PM            431   \n",
              "3  74.125.136.120       443         6  24/07/2015 04:09:48 PM            359   \n",
              "4  173.194.65.127     19305         6  24/07/2015 04:09:45 PM       10778451   \n",
              "\n",
              "   Total Fwd Packet  Total Bwd packets  ...  Active Mean  Active Std  \\\n",
              "0                 1                  1  ...            0           0   \n",
              "1                 1                  1  ...            0           0   \n",
              "2                 1                  1  ...            0           0   \n",
              "3                 1                  1  ...            0           0   \n",
              "4               591                400  ...            0           0   \n",
              "\n",
              "   Active Max  Active Min     Idle Mean     Idle Std      Idle Max  \\\n",
              "0           0           0  0.000000e+00        0.000  0.000000e+00   \n",
              "1           0           0  0.000000e+00        0.000  0.000000e+00   \n",
              "2           0           0  0.000000e+00        0.000  0.000000e+00   \n",
              "3           0           0  0.000000e+00        0.000  0.000000e+00   \n",
              "4           0           0  1.437760e+15  3117718.131  1.437760e+15   \n",
              "\n",
              "       Idle Min    Label          Label.1  \n",
              "0  0.000000e+00  Non-Tor  AUDIO-STREAMING  \n",
              "1  0.000000e+00  Non-Tor  AUDIO-STREAMING  \n",
              "2  0.000000e+00  Non-Tor  AUDIO-STREAMING  \n",
              "3  0.000000e+00  Non-Tor  AUDIO-STREAMING  \n",
              "4  1.437760e+15  Non-Tor  AUDIO-STREAMING  \n",
              "\n",
              "[5 rows x 85 columns]"
            ],
            "text/html": [
              "\n",
              "  <div id=\"df-d198c449-c4ea-43ed-b285-9d51b41ad8ed\">\n",
              "    <div class=\"colab-df-container\">\n",
              "      <div>\n",
              "<style scoped>\n",
              "    .dataframe tbody tr th:only-of-type {\n",
              "        vertical-align: middle;\n",
              "    }\n",
              "\n",
              "    .dataframe tbody tr th {\n",
              "        vertical-align: top;\n",
              "    }\n",
              "\n",
              "    .dataframe thead th {\n",
              "        text-align: right;\n",
              "    }\n",
              "</style>\n",
              "<table border=\"1\" class=\"dataframe\">\n",
              "  <thead>\n",
              "    <tr style=\"text-align: right;\">\n",
              "      <th></th>\n",
              "      <th>Flow ID</th>\n",
              "      <th>Src IP</th>\n",
              "      <th>Src Port</th>\n",
              "      <th>Dst IP</th>\n",
              "      <th>Dst Port</th>\n",
              "      <th>Protocol</th>\n",
              "      <th>Timestamp</th>\n",
              "      <th>Flow Duration</th>\n",
              "      <th>Total Fwd Packet</th>\n",
              "      <th>Total Bwd packets</th>\n",
              "      <th>...</th>\n",
              "      <th>Active Mean</th>\n",
              "      <th>Active Std</th>\n",
              "      <th>Active Max</th>\n",
              "      <th>Active Min</th>\n",
              "      <th>Idle Mean</th>\n",
              "      <th>Idle Std</th>\n",
              "      <th>Idle Max</th>\n",
              "      <th>Idle Min</th>\n",
              "      <th>Label</th>\n",
              "      <th>Label.1</th>\n",
              "    </tr>\n",
              "  </thead>\n",
              "  <tbody>\n",
              "    <tr>\n",
              "      <th>0</th>\n",
              "      <td>10.152.152.11-216.58.220.99-57158-443-6</td>\n",
              "      <td>10.152.152.11</td>\n",
              "      <td>57158</td>\n",
              "      <td>216.58.220.99</td>\n",
              "      <td>443</td>\n",
              "      <td>6</td>\n",
              "      <td>24/07/2015 04:09:48 PM</td>\n",
              "      <td>229</td>\n",
              "      <td>1</td>\n",
              "      <td>1</td>\n",
              "      <td>...</td>\n",
              "      <td>0</td>\n",
              "      <td>0</td>\n",
              "      <td>0</td>\n",
              "      <td>0</td>\n",
              "      <td>0.000000e+00</td>\n",
              "      <td>0.000</td>\n",
              "      <td>0.000000e+00</td>\n",
              "      <td>0.000000e+00</td>\n",
              "      <td>Non-Tor</td>\n",
              "      <td>AUDIO-STREAMING</td>\n",
              "    </tr>\n",
              "    <tr>\n",
              "      <th>1</th>\n",
              "      <td>10.152.152.11-216.58.220.99-57159-443-6</td>\n",
              "      <td>10.152.152.11</td>\n",
              "      <td>57159</td>\n",
              "      <td>216.58.220.99</td>\n",
              "      <td>443</td>\n",
              "      <td>6</td>\n",
              "      <td>24/07/2015 04:09:48 PM</td>\n",
              "      <td>407</td>\n",
              "      <td>1</td>\n",
              "      <td>1</td>\n",
              "      <td>...</td>\n",
              "      <td>0</td>\n",
              "      <td>0</td>\n",
              "      <td>0</td>\n",
              "      <td>0</td>\n",
              "      <td>0.000000e+00</td>\n",
              "      <td>0.000</td>\n",
              "      <td>0.000000e+00</td>\n",
              "      <td>0.000000e+00</td>\n",
              "      <td>Non-Tor</td>\n",
              "      <td>AUDIO-STREAMING</td>\n",
              "    </tr>\n",
              "    <tr>\n",
              "      <th>2</th>\n",
              "      <td>10.152.152.11-216.58.220.99-57160-443-6</td>\n",
              "      <td>10.152.152.11</td>\n",
              "      <td>57160</td>\n",
              "      <td>216.58.220.99</td>\n",
              "      <td>443</td>\n",
              "      <td>6</td>\n",
              "      <td>24/07/2015 04:09:48 PM</td>\n",
              "      <td>431</td>\n",
              "      <td>1</td>\n",
              "      <td>1</td>\n",
              "      <td>...</td>\n",
              "      <td>0</td>\n",
              "      <td>0</td>\n",
              "      <td>0</td>\n",
              "      <td>0</td>\n",
              "      <td>0.000000e+00</td>\n",
              "      <td>0.000</td>\n",
              "      <td>0.000000e+00</td>\n",
              "      <td>0.000000e+00</td>\n",
              "      <td>Non-Tor</td>\n",
              "      <td>AUDIO-STREAMING</td>\n",
              "    </tr>\n",
              "    <tr>\n",
              "      <th>3</th>\n",
              "      <td>10.152.152.11-74.125.136.120-49134-443-6</td>\n",
              "      <td>10.152.152.11</td>\n",
              "      <td>49134</td>\n",
              "      <td>74.125.136.120</td>\n",
              "      <td>443</td>\n",
              "      <td>6</td>\n",
              "      <td>24/07/2015 04:09:48 PM</td>\n",
              "      <td>359</td>\n",
              "      <td>1</td>\n",
              "      <td>1</td>\n",
              "      <td>...</td>\n",
              "      <td>0</td>\n",
              "      <td>0</td>\n",
              "      <td>0</td>\n",
              "      <td>0</td>\n",
              "      <td>0.000000e+00</td>\n",
              "      <td>0.000</td>\n",
              "      <td>0.000000e+00</td>\n",
              "      <td>0.000000e+00</td>\n",
              "      <td>Non-Tor</td>\n",
              "      <td>AUDIO-STREAMING</td>\n",
              "    </tr>\n",
              "    <tr>\n",
              "      <th>4</th>\n",
              "      <td>10.152.152.11-173.194.65.127-34697-19305-6</td>\n",
              "      <td>10.152.152.11</td>\n",
              "      <td>34697</td>\n",
              "      <td>173.194.65.127</td>\n",
              "      <td>19305</td>\n",
              "      <td>6</td>\n",
              "      <td>24/07/2015 04:09:45 PM</td>\n",
              "      <td>10778451</td>\n",
              "      <td>591</td>\n",
              "      <td>400</td>\n",
              "      <td>...</td>\n",
              "      <td>0</td>\n",
              "      <td>0</td>\n",
              "      <td>0</td>\n",
              "      <td>0</td>\n",
              "      <td>1.437760e+15</td>\n",
              "      <td>3117718.131</td>\n",
              "      <td>1.437760e+15</td>\n",
              "      <td>1.437760e+15</td>\n",
              "      <td>Non-Tor</td>\n",
              "      <td>AUDIO-STREAMING</td>\n",
              "    </tr>\n",
              "  </tbody>\n",
              "</table>\n",
              "<p>5 rows × 85 columns</p>\n",
              "</div>\n",
              "      <button class=\"colab-df-convert\" onclick=\"convertToInteractive('df-d198c449-c4ea-43ed-b285-9d51b41ad8ed')\"\n",
              "              title=\"Convert this dataframe to an interactive table.\"\n",
              "              style=\"display:none;\">\n",
              "        \n",
              "  <svg xmlns=\"http://www.w3.org/2000/svg\" height=\"24px\"viewBox=\"0 0 24 24\"\n",
              "       width=\"24px\">\n",
              "    <path d=\"M0 0h24v24H0V0z\" fill=\"none\"/>\n",
              "    <path d=\"M18.56 5.44l.94 2.06.94-2.06 2.06-.94-2.06-.94-.94-2.06-.94 2.06-2.06.94zm-11 1L8.5 8.5l.94-2.06 2.06-.94-2.06-.94L8.5 2.5l-.94 2.06-2.06.94zm10 10l.94 2.06.94-2.06 2.06-.94-2.06-.94-.94-2.06-.94 2.06-2.06.94z\"/><path d=\"M17.41 7.96l-1.37-1.37c-.4-.4-.92-.59-1.43-.59-.52 0-1.04.2-1.43.59L10.3 9.45l-7.72 7.72c-.78.78-.78 2.05 0 2.83L4 21.41c.39.39.9.59 1.41.59.51 0 1.02-.2 1.41-.59l7.78-7.78 2.81-2.81c.8-.78.8-2.07 0-2.86zM5.41 20L4 18.59l7.72-7.72 1.47 1.35L5.41 20z\"/>\n",
              "  </svg>\n",
              "      </button>\n",
              "      \n",
              "  <style>\n",
              "    .colab-df-container {\n",
              "      display:flex;\n",
              "      flex-wrap:wrap;\n",
              "      gap: 12px;\n",
              "    }\n",
              "\n",
              "    .colab-df-convert {\n",
              "      background-color: #E8F0FE;\n",
              "      border: none;\n",
              "      border-radius: 50%;\n",
              "      cursor: pointer;\n",
              "      display: none;\n",
              "      fill: #1967D2;\n",
              "      height: 32px;\n",
              "      padding: 0 0 0 0;\n",
              "      width: 32px;\n",
              "    }\n",
              "\n",
              "    .colab-df-convert:hover {\n",
              "      background-color: #E2EBFA;\n",
              "      box-shadow: 0px 1px 2px rgba(60, 64, 67, 0.3), 0px 1px 3px 1px rgba(60, 64, 67, 0.15);\n",
              "      fill: #174EA6;\n",
              "    }\n",
              "\n",
              "    [theme=dark] .colab-df-convert {\n",
              "      background-color: #3B4455;\n",
              "      fill: #D2E3FC;\n",
              "    }\n",
              "\n",
              "    [theme=dark] .colab-df-convert:hover {\n",
              "      background-color: #434B5C;\n",
              "      box-shadow: 0px 1px 3px 1px rgba(0, 0, 0, 0.15);\n",
              "      filter: drop-shadow(0px 1px 2px rgba(0, 0, 0, 0.3));\n",
              "      fill: #FFFFFF;\n",
              "    }\n",
              "  </style>\n",
              "\n",
              "      <script>\n",
              "        const buttonEl =\n",
              "          document.querySelector('#df-d198c449-c4ea-43ed-b285-9d51b41ad8ed button.colab-df-convert');\n",
              "        buttonEl.style.display =\n",
              "          google.colab.kernel.accessAllowed ? 'block' : 'none';\n",
              "\n",
              "        async function convertToInteractive(key) {\n",
              "          const element = document.querySelector('#df-d198c449-c4ea-43ed-b285-9d51b41ad8ed');\n",
              "          const dataTable =\n",
              "            await google.colab.kernel.invokeFunction('convertToInteractive',\n",
              "                                                     [key], {});\n",
              "          if (!dataTable) return;\n",
              "\n",
              "          const docLinkHtml = 'Like what you see? Visit the ' +\n",
              "            '<a target=\"_blank\" href=https://colab.research.google.com/notebooks/data_table.ipynb>data table notebook</a>'\n",
              "            + ' to learn more about interactive tables.';\n",
              "          element.innerHTML = '';\n",
              "          dataTable['output_type'] = 'display_data';\n",
              "          await google.colab.output.renderOutput(dataTable, element);\n",
              "          const docLink = document.createElement('div');\n",
              "          docLink.innerHTML = docLinkHtml;\n",
              "          element.appendChild(docLink);\n",
              "        }\n",
              "      </script>\n",
              "    </div>\n",
              "  </div>\n",
              "  "
            ]
          },
          "metadata": {},
          "execution_count": 2
        }
      ],
      "source": [
        "import numpy as np\n",
        "import pandas as pd\n",
        "\n",
        "traffic_df = pd.read_csv('/content/gdrive/MyDrive/CIC-Darknet/Darknet.csv')\n",
        "traffic_df.head()"
      ]
    },
    {
      "cell_type": "code",
      "execution_count": 3,
      "id": "a02c286a",
      "metadata": {
        "id": "a02c286a",
        "colab": {
          "base_uri": "https://localhost:8080/"
        },
        "outputId": "26891dd9-4481-4069-dc5b-e39c0d138e3a"
      },
      "outputs": [
        {
          "output_type": "stream",
          "name": "stderr",
          "text": [
            "/usr/local/lib/python3.7/dist-packages/pandas/core/indexing.py:1732: SettingWithCopyWarning: \n",
            "A value is trying to be set on a copy of a slice from a DataFrame\n",
            "\n",
            "See the caveats in the documentation: https://pandas.pydata.org/pandas-docs/stable/user_guide/indexing.html#returning-a-view-versus-a-copy\n",
            "  self._setitem_single_block(indexer, value, name)\n"
          ]
        }
      ],
      "source": [
        "traffic_df[\"Label.1\"].loc[traffic_df[\"Label.1\"] == \"AUDIO-STREAMING\"] = \"Audio-Streaming\"\n",
        "traffic_df[\"Label.1\"].loc[traffic_df[\"Label.1\"] == \"File-transfer\"] = \"File-Transfer\"\n",
        "traffic_df[\"Label.1\"].loc[traffic_df[\"Label.1\"] == \"Video-streaming\"] = \"Video-Streaming\""
      ]
    },
    {
      "cell_type": "code",
      "execution_count": 4,
      "id": "1a79b9b4",
      "metadata": {
        "id": "1a79b9b4",
        "colab": {
          "base_uri": "https://localhost:8080/"
        },
        "outputId": "f5c48425-23af-4b75-e911-738fcb829c4a"
      },
      "outputs": [
        {
          "output_type": "execute_result",
          "data": {
            "text/plain": [
              "Label    Label.1        \n",
              "Non-Tor  P2P                48300\n",
              "         Browsing           32545\n",
              "         File-Transfer       6740\n",
              "         Video-Streaming     3382\n",
              "         Audio-Streaming     1484\n",
              "         Email                492\n",
              "         Chat                 413\n",
              "NonVPN   Chat                6524\n",
              "         Email               5071\n",
              "         Video-Streaming     5039\n",
              "         Audio-Streaming     3296\n",
              "         VOIP                2101\n",
              "         File-Transfer       1832\n",
              "Tor      VOIP                 298\n",
              "         Browsing             263\n",
              "         Audio-Streaming      224\n",
              "         P2P                  220\n",
              "         Video-Streaming      202\n",
              "         File-Transfer        107\n",
              "         Chat                  65\n",
              "         Email                 13\n",
              "VPN      Audio-Streaming    13060\n",
              "         Chat                4476\n",
              "         File-Transfer       2503\n",
              "         VOIP                1167\n",
              "         Video-Streaming     1144\n",
              "         Email                569\n",
              "Name: Label.1, dtype: int64"
            ]
          },
          "metadata": {},
          "execution_count": 4
        }
      ],
      "source": [
        "traffic_df.groupby('Label')['Label.1'].value_counts()"
      ]
    },
    {
      "cell_type": "markdown",
      "id": "375f6b69",
      "metadata": {
        "id": "375f6b69"
      },
      "source": [
        "### Non-Tor, Non-Vpn"
      ]
    },
    {
      "cell_type": "code",
      "execution_count": 5,
      "id": "e1507df9",
      "metadata": {
        "id": "e1507df9",
        "colab": {
          "base_uri": "https://localhost:8080/"
        },
        "outputId": "020659a0-a9b4-4335-eca8-45738f59e87e"
      },
      "outputs": [
        {
          "output_type": "execute_result",
          "data": {
            "text/plain": [
              "P2P                48300\n",
              "Browsing           32545\n",
              "File-Transfer       8572\n",
              "Video-Streaming     8421\n",
              "Chat                6937\n",
              "Email               5563\n",
              "Audio-Streaming     4780\n",
              "VOIP                2101\n",
              "Name: Label.1, dtype: int64"
            ]
          },
          "metadata": {},
          "execution_count": 5
        }
      ],
      "source": [
        "non_tor = traffic_df['Label'] == 'Non-Tor'\n",
        "non_vpn = traffic_df['Label'] == 'NonVPN'\n",
        "\n",
        "label_benign = non_tor | non_vpn\n",
        "benign_df = traffic_df[label_benign]\n",
        "benign_df['Label.1'].value_counts()"
      ]
    },
    {
      "cell_type": "code",
      "execution_count": 6,
      "id": "3b94de7c",
      "metadata": {
        "id": "3b94de7c",
        "colab": {
          "base_uri": "https://localhost:8080/"
        },
        "outputId": "134e7df8-4a92-428c-c5b4-2691557b441d"
      },
      "outputs": [
        {
          "output_type": "stream",
          "name": "stderr",
          "text": [
            "/usr/local/lib/python3.7/dist-packages/pandas/core/indexing.py:1732: SettingWithCopyWarning: \n",
            "A value is trying to be set on a copy of a slice from a DataFrame\n",
            "\n",
            "See the caveats in the documentation: https://pandas.pydata.org/pandas-docs/stable/user_guide/indexing.html#returning-a-view-versus-a-copy\n",
            "  self._setitem_single_block(indexer, value, name)\n"
          ]
        }
      ],
      "source": [
        "benign_df[\"Label.1\"].loc[benign_df[\"Label.1\"] == \"Audio-Streaming\"] = \"benign_Audio-Streaming\"\n",
        "benign_df[\"Label.1\"].loc[benign_df[\"Label.1\"] == \"Chat\"] = \"benign_Chat\"\n",
        "benign_df[\"Label.1\"].loc[benign_df[\"Label.1\"] == \"File-Transfer\"] = \"benign_File-Transfer\"\n",
        "benign_df[\"Label.1\"].loc[benign_df[\"Label.1\"] == \"VOIP\"] = \"benign_VOIP\"\n",
        "benign_df[\"Label.1\"].loc[benign_df[\"Label.1\"] == \"Video-Streaming\"] = \"benign_Video-Streaming\"\n",
        "benign_df[\"Label.1\"].loc[benign_df[\"Label.1\"] == \"Email\"] = \"benign_Email\"\n",
        "benign_df[\"Label.1\"].loc[benign_df[\"Label.1\"] == \"Browsing\"] = \"benign_Browsing\"\n",
        "benign_df[\"Label.1\"].loc[benign_df[\"Label.1\"] == \"P2P\"] = \"benign_P2P\""
      ]
    },
    {
      "cell_type": "code",
      "execution_count": 7,
      "id": "f5a70a09",
      "metadata": {
        "id": "f5a70a09",
        "colab": {
          "base_uri": "https://localhost:8080/"
        },
        "outputId": "5401647d-3c2c-40ae-99cb-3bcf289bc088"
      },
      "outputs": [
        {
          "output_type": "execute_result",
          "data": {
            "text/plain": [
              "benign_P2P                48300\n",
              "benign_Browsing           32545\n",
              "benign_File-Transfer       8572\n",
              "benign_Video-Streaming     8421\n",
              "benign_Chat                6937\n",
              "benign_Email               5563\n",
              "benign_Audio-Streaming     4780\n",
              "benign_VOIP                2101\n",
              "Name: Label.1, dtype: int64"
            ]
          },
          "metadata": {},
          "execution_count": 7
        }
      ],
      "source": [
        "benign_df['Label.1'].value_counts()"
      ]
    },
    {
      "cell_type": "markdown",
      "id": "93b153d0",
      "metadata": {
        "id": "93b153d0"
      },
      "source": [
        "### Tor, Vpn"
      ]
    },
    {
      "cell_type": "code",
      "execution_count": 8,
      "id": "ed750a48",
      "metadata": {
        "id": "ed750a48",
        "colab": {
          "base_uri": "https://localhost:8080/"
        },
        "outputId": "dd83e613-642b-4249-c10e-83ccb224cf80"
      },
      "outputs": [
        {
          "output_type": "execute_result",
          "data": {
            "text/plain": [
              "Audio-Streaming    13284\n",
              "Chat                4541\n",
              "File-Transfer       2610\n",
              "VOIP                1465\n",
              "Video-Streaming     1346\n",
              "Email                582\n",
              "Browsing             263\n",
              "P2P                  220\n",
              "Name: Label.1, dtype: int64"
            ]
          },
          "metadata": {},
          "execution_count": 8
        }
      ],
      "source": [
        "tor = traffic_df['Label'] == 'Tor'\n",
        "vpn = traffic_df['Label'] == 'VPN'\n",
        "\n",
        "label_darknet = tor | vpn\n",
        "darknet_df = traffic_df[label_darknet]\n",
        "darknet_df['Label.1'].value_counts()"
      ]
    },
    {
      "cell_type": "code",
      "execution_count": 9,
      "id": "afab343d",
      "metadata": {
        "id": "afab343d",
        "colab": {
          "base_uri": "https://localhost:8080/"
        },
        "outputId": "259b46d4-d64f-43c3-9a15-344add634a38"
      },
      "outputs": [
        {
          "output_type": "stream",
          "name": "stderr",
          "text": [
            "/usr/local/lib/python3.7/dist-packages/pandas/core/indexing.py:1732: SettingWithCopyWarning: \n",
            "A value is trying to be set on a copy of a slice from a DataFrame\n",
            "\n",
            "See the caveats in the documentation: https://pandas.pydata.org/pandas-docs/stable/user_guide/indexing.html#returning-a-view-versus-a-copy\n",
            "  self._setitem_single_block(indexer, value, name)\n"
          ]
        }
      ],
      "source": [
        "darknet_df[\"Label.1\"].loc[darknet_df[\"Label.1\"] == \"Audio-Streaming\"] = \"dark_Audio-Streaming\"\n",
        "darknet_df[\"Label.1\"].loc[darknet_df[\"Label.1\"] == \"Chat\"] = \"dark_Chat\"\n",
        "darknet_df[\"Label.1\"].loc[darknet_df[\"Label.1\"] == \"File-Transfer\"] = \"dark_File-Transfer\"\n",
        "darknet_df[\"Label.1\"].loc[darknet_df[\"Label.1\"] == \"VOIP\"] = \"dark_VOIP\"\n",
        "darknet_df[\"Label.1\"].loc[darknet_df[\"Label.1\"] == \"Video-Streaming\"] = \"dark_Video-Streaming\"\n",
        "darknet_df[\"Label.1\"].loc[darknet_df[\"Label.1\"] == \"Email\"] = \"dark_Email\"\n",
        "darknet_df[\"Label.1\"].loc[darknet_df[\"Label.1\"] == \"Browsing\"] = \"dark_Browsing\"\n",
        "darknet_df[\"Label.1\"].loc[darknet_df[\"Label.1\"] == \"P2P\"] = \"dark_P2P\""
      ]
    },
    {
      "cell_type": "code",
      "execution_count": 10,
      "id": "6ce0d8f4",
      "metadata": {
        "id": "6ce0d8f4",
        "colab": {
          "base_uri": "https://localhost:8080/"
        },
        "outputId": "3cb1ae4e-d86b-4699-9342-0bc9b4e3999d"
      },
      "outputs": [
        {
          "output_type": "execute_result",
          "data": {
            "text/plain": [
              "dark_Audio-Streaming    13284\n",
              "dark_Chat                4541\n",
              "dark_File-Transfer       2610\n",
              "dark_VOIP                1465\n",
              "dark_Video-Streaming     1346\n",
              "dark_Email                582\n",
              "dark_Browsing             263\n",
              "dark_P2P                  220\n",
              "Name: Label.1, dtype: int64"
            ]
          },
          "metadata": {},
          "execution_count": 10
        }
      ],
      "source": [
        "darknet_df['Label.1'].value_counts()"
      ]
    },
    {
      "cell_type": "code",
      "execution_count": 11,
      "id": "bc14da73",
      "metadata": {
        "id": "bc14da73",
        "colab": {
          "base_uri": "https://localhost:8080/"
        },
        "outputId": "b041d907-aa60-48c2-ee6f-91a16e809da9"
      },
      "outputs": [
        {
          "output_type": "execute_result",
          "data": {
            "text/plain": [
              "benign_P2P                48300\n",
              "benign_Browsing           32545\n",
              "dark_Audio-Streaming      13284\n",
              "benign_File-Transfer       8572\n",
              "benign_Video-Streaming     8421\n",
              "benign_Chat                6937\n",
              "benign_Email               5563\n",
              "benign_Audio-Streaming     4780\n",
              "dark_Chat                  4541\n",
              "dark_File-Transfer         2610\n",
              "benign_VOIP                2101\n",
              "dark_VOIP                  1465\n",
              "dark_Video-Streaming       1346\n",
              "dark_Email                  582\n",
              "dark_Browsing               263\n",
              "dark_P2P                    220\n",
              "Name: Label.1, dtype: int64"
            ]
          },
          "metadata": {},
          "execution_count": 11
        }
      ],
      "source": [
        "data = pd.concat([benign_df, darknet_df])\n",
        "data['Label.1'].value_counts()"
      ]
    },
    {
      "cell_type": "code",
      "execution_count": 12,
      "id": "d11cb7d2",
      "metadata": {
        "id": "d11cb7d2",
        "colab": {
          "base_uri": "https://localhost:8080/",
          "height": 525
        },
        "outputId": "e834f729-e99a-4805-98f2-261280139de0"
      },
      "outputs": [
        {
          "output_type": "execute_result",
          "data": {
            "text/plain": [
              "                                      Flow ID         Src IP  Src Port  \\\n",
              "0     10.152.152.11-216.58.220.99-57158-443-6  10.152.152.11     57158   \n",
              "1     10.152.152.11-216.58.220.99-57159-443-6  10.152.152.11     57159   \n",
              "2     10.152.152.11-216.58.220.99-57160-443-6  10.152.152.11     57160   \n",
              "3    10.152.152.11-74.125.136.120-49134-443-6  10.152.152.11     49134   \n",
              "4  10.152.152.11-173.194.65.127-34697-19305-6  10.152.152.11     34697   \n",
              "\n",
              "           Dst IP  Dst Port  Protocol               Timestamp  Flow Duration  \\\n",
              "0   216.58.220.99       443         6  24/07/2015 04:09:48 PM            229   \n",
              "1   216.58.220.99       443         6  24/07/2015 04:09:48 PM            407   \n",
              "2   216.58.220.99       443         6  24/07/2015 04:09:48 PM            431   \n",
              "3  74.125.136.120       443         6  24/07/2015 04:09:48 PM            359   \n",
              "4  173.194.65.127     19305         6  24/07/2015 04:09:45 PM       10778451   \n",
              "\n",
              "   Total Fwd Packet  Total Bwd packets  ...  Active Mean  Active Std  \\\n",
              "0                 1                  1  ...            0           0   \n",
              "1                 1                  1  ...            0           0   \n",
              "2                 1                  1  ...            0           0   \n",
              "3                 1                  1  ...            0           0   \n",
              "4               591                400  ...            0           0   \n",
              "\n",
              "   Active Max  Active Min     Idle Mean     Idle Std      Idle Max  \\\n",
              "0           0           0  0.000000e+00        0.000  0.000000e+00   \n",
              "1           0           0  0.000000e+00        0.000  0.000000e+00   \n",
              "2           0           0  0.000000e+00        0.000  0.000000e+00   \n",
              "3           0           0  0.000000e+00        0.000  0.000000e+00   \n",
              "4           0           0  1.437760e+15  3117718.131  1.437760e+15   \n",
              "\n",
              "       Idle Min    Label                 Label.1  \n",
              "0  0.000000e+00  Non-Tor  benign_Audio-Streaming  \n",
              "1  0.000000e+00  Non-Tor  benign_Audio-Streaming  \n",
              "2  0.000000e+00  Non-Tor  benign_Audio-Streaming  \n",
              "3  0.000000e+00  Non-Tor  benign_Audio-Streaming  \n",
              "4  1.437760e+15  Non-Tor  benign_Audio-Streaming  \n",
              "\n",
              "[5 rows x 85 columns]"
            ],
            "text/html": [
              "\n",
              "  <div id=\"df-423e0a3d-8b82-41f1-9fae-6b19f2481d00\">\n",
              "    <div class=\"colab-df-container\">\n",
              "      <div>\n",
              "<style scoped>\n",
              "    .dataframe tbody tr th:only-of-type {\n",
              "        vertical-align: middle;\n",
              "    }\n",
              "\n",
              "    .dataframe tbody tr th {\n",
              "        vertical-align: top;\n",
              "    }\n",
              "\n",
              "    .dataframe thead th {\n",
              "        text-align: right;\n",
              "    }\n",
              "</style>\n",
              "<table border=\"1\" class=\"dataframe\">\n",
              "  <thead>\n",
              "    <tr style=\"text-align: right;\">\n",
              "      <th></th>\n",
              "      <th>Flow ID</th>\n",
              "      <th>Src IP</th>\n",
              "      <th>Src Port</th>\n",
              "      <th>Dst IP</th>\n",
              "      <th>Dst Port</th>\n",
              "      <th>Protocol</th>\n",
              "      <th>Timestamp</th>\n",
              "      <th>Flow Duration</th>\n",
              "      <th>Total Fwd Packet</th>\n",
              "      <th>Total Bwd packets</th>\n",
              "      <th>...</th>\n",
              "      <th>Active Mean</th>\n",
              "      <th>Active Std</th>\n",
              "      <th>Active Max</th>\n",
              "      <th>Active Min</th>\n",
              "      <th>Idle Mean</th>\n",
              "      <th>Idle Std</th>\n",
              "      <th>Idle Max</th>\n",
              "      <th>Idle Min</th>\n",
              "      <th>Label</th>\n",
              "      <th>Label.1</th>\n",
              "    </tr>\n",
              "  </thead>\n",
              "  <tbody>\n",
              "    <tr>\n",
              "      <th>0</th>\n",
              "      <td>10.152.152.11-216.58.220.99-57158-443-6</td>\n",
              "      <td>10.152.152.11</td>\n",
              "      <td>57158</td>\n",
              "      <td>216.58.220.99</td>\n",
              "      <td>443</td>\n",
              "      <td>6</td>\n",
              "      <td>24/07/2015 04:09:48 PM</td>\n",
              "      <td>229</td>\n",
              "      <td>1</td>\n",
              "      <td>1</td>\n",
              "      <td>...</td>\n",
              "      <td>0</td>\n",
              "      <td>0</td>\n",
              "      <td>0</td>\n",
              "      <td>0</td>\n",
              "      <td>0.000000e+00</td>\n",
              "      <td>0.000</td>\n",
              "      <td>0.000000e+00</td>\n",
              "      <td>0.000000e+00</td>\n",
              "      <td>Non-Tor</td>\n",
              "      <td>benign_Audio-Streaming</td>\n",
              "    </tr>\n",
              "    <tr>\n",
              "      <th>1</th>\n",
              "      <td>10.152.152.11-216.58.220.99-57159-443-6</td>\n",
              "      <td>10.152.152.11</td>\n",
              "      <td>57159</td>\n",
              "      <td>216.58.220.99</td>\n",
              "      <td>443</td>\n",
              "      <td>6</td>\n",
              "      <td>24/07/2015 04:09:48 PM</td>\n",
              "      <td>407</td>\n",
              "      <td>1</td>\n",
              "      <td>1</td>\n",
              "      <td>...</td>\n",
              "      <td>0</td>\n",
              "      <td>0</td>\n",
              "      <td>0</td>\n",
              "      <td>0</td>\n",
              "      <td>0.000000e+00</td>\n",
              "      <td>0.000</td>\n",
              "      <td>0.000000e+00</td>\n",
              "      <td>0.000000e+00</td>\n",
              "      <td>Non-Tor</td>\n",
              "      <td>benign_Audio-Streaming</td>\n",
              "    </tr>\n",
              "    <tr>\n",
              "      <th>2</th>\n",
              "      <td>10.152.152.11-216.58.220.99-57160-443-6</td>\n",
              "      <td>10.152.152.11</td>\n",
              "      <td>57160</td>\n",
              "      <td>216.58.220.99</td>\n",
              "      <td>443</td>\n",
              "      <td>6</td>\n",
              "      <td>24/07/2015 04:09:48 PM</td>\n",
              "      <td>431</td>\n",
              "      <td>1</td>\n",
              "      <td>1</td>\n",
              "      <td>...</td>\n",
              "      <td>0</td>\n",
              "      <td>0</td>\n",
              "      <td>0</td>\n",
              "      <td>0</td>\n",
              "      <td>0.000000e+00</td>\n",
              "      <td>0.000</td>\n",
              "      <td>0.000000e+00</td>\n",
              "      <td>0.000000e+00</td>\n",
              "      <td>Non-Tor</td>\n",
              "      <td>benign_Audio-Streaming</td>\n",
              "    </tr>\n",
              "    <tr>\n",
              "      <th>3</th>\n",
              "      <td>10.152.152.11-74.125.136.120-49134-443-6</td>\n",
              "      <td>10.152.152.11</td>\n",
              "      <td>49134</td>\n",
              "      <td>74.125.136.120</td>\n",
              "      <td>443</td>\n",
              "      <td>6</td>\n",
              "      <td>24/07/2015 04:09:48 PM</td>\n",
              "      <td>359</td>\n",
              "      <td>1</td>\n",
              "      <td>1</td>\n",
              "      <td>...</td>\n",
              "      <td>0</td>\n",
              "      <td>0</td>\n",
              "      <td>0</td>\n",
              "      <td>0</td>\n",
              "      <td>0.000000e+00</td>\n",
              "      <td>0.000</td>\n",
              "      <td>0.000000e+00</td>\n",
              "      <td>0.000000e+00</td>\n",
              "      <td>Non-Tor</td>\n",
              "      <td>benign_Audio-Streaming</td>\n",
              "    </tr>\n",
              "    <tr>\n",
              "      <th>4</th>\n",
              "      <td>10.152.152.11-173.194.65.127-34697-19305-6</td>\n",
              "      <td>10.152.152.11</td>\n",
              "      <td>34697</td>\n",
              "      <td>173.194.65.127</td>\n",
              "      <td>19305</td>\n",
              "      <td>6</td>\n",
              "      <td>24/07/2015 04:09:45 PM</td>\n",
              "      <td>10778451</td>\n",
              "      <td>591</td>\n",
              "      <td>400</td>\n",
              "      <td>...</td>\n",
              "      <td>0</td>\n",
              "      <td>0</td>\n",
              "      <td>0</td>\n",
              "      <td>0</td>\n",
              "      <td>1.437760e+15</td>\n",
              "      <td>3117718.131</td>\n",
              "      <td>1.437760e+15</td>\n",
              "      <td>1.437760e+15</td>\n",
              "      <td>Non-Tor</td>\n",
              "      <td>benign_Audio-Streaming</td>\n",
              "    </tr>\n",
              "  </tbody>\n",
              "</table>\n",
              "<p>5 rows × 85 columns</p>\n",
              "</div>\n",
              "      <button class=\"colab-df-convert\" onclick=\"convertToInteractive('df-423e0a3d-8b82-41f1-9fae-6b19f2481d00')\"\n",
              "              title=\"Convert this dataframe to an interactive table.\"\n",
              "              style=\"display:none;\">\n",
              "        \n",
              "  <svg xmlns=\"http://www.w3.org/2000/svg\" height=\"24px\"viewBox=\"0 0 24 24\"\n",
              "       width=\"24px\">\n",
              "    <path d=\"M0 0h24v24H0V0z\" fill=\"none\"/>\n",
              "    <path d=\"M18.56 5.44l.94 2.06.94-2.06 2.06-.94-2.06-.94-.94-2.06-.94 2.06-2.06.94zm-11 1L8.5 8.5l.94-2.06 2.06-.94-2.06-.94L8.5 2.5l-.94 2.06-2.06.94zm10 10l.94 2.06.94-2.06 2.06-.94-2.06-.94-.94-2.06-.94 2.06-2.06.94z\"/><path d=\"M17.41 7.96l-1.37-1.37c-.4-.4-.92-.59-1.43-.59-.52 0-1.04.2-1.43.59L10.3 9.45l-7.72 7.72c-.78.78-.78 2.05 0 2.83L4 21.41c.39.39.9.59 1.41.59.51 0 1.02-.2 1.41-.59l7.78-7.78 2.81-2.81c.8-.78.8-2.07 0-2.86zM5.41 20L4 18.59l7.72-7.72 1.47 1.35L5.41 20z\"/>\n",
              "  </svg>\n",
              "      </button>\n",
              "      \n",
              "  <style>\n",
              "    .colab-df-container {\n",
              "      display:flex;\n",
              "      flex-wrap:wrap;\n",
              "      gap: 12px;\n",
              "    }\n",
              "\n",
              "    .colab-df-convert {\n",
              "      background-color: #E8F0FE;\n",
              "      border: none;\n",
              "      border-radius: 50%;\n",
              "      cursor: pointer;\n",
              "      display: none;\n",
              "      fill: #1967D2;\n",
              "      height: 32px;\n",
              "      padding: 0 0 0 0;\n",
              "      width: 32px;\n",
              "    }\n",
              "\n",
              "    .colab-df-convert:hover {\n",
              "      background-color: #E2EBFA;\n",
              "      box-shadow: 0px 1px 2px rgba(60, 64, 67, 0.3), 0px 1px 3px 1px rgba(60, 64, 67, 0.15);\n",
              "      fill: #174EA6;\n",
              "    }\n",
              "\n",
              "    [theme=dark] .colab-df-convert {\n",
              "      background-color: #3B4455;\n",
              "      fill: #D2E3FC;\n",
              "    }\n",
              "\n",
              "    [theme=dark] .colab-df-convert:hover {\n",
              "      background-color: #434B5C;\n",
              "      box-shadow: 0px 1px 3px 1px rgba(0, 0, 0, 0.15);\n",
              "      filter: drop-shadow(0px 1px 2px rgba(0, 0, 0, 0.3));\n",
              "      fill: #FFFFFF;\n",
              "    }\n",
              "  </style>\n",
              "\n",
              "      <script>\n",
              "        const buttonEl =\n",
              "          document.querySelector('#df-423e0a3d-8b82-41f1-9fae-6b19f2481d00 button.colab-df-convert');\n",
              "        buttonEl.style.display =\n",
              "          google.colab.kernel.accessAllowed ? 'block' : 'none';\n",
              "\n",
              "        async function convertToInteractive(key) {\n",
              "          const element = document.querySelector('#df-423e0a3d-8b82-41f1-9fae-6b19f2481d00');\n",
              "          const dataTable =\n",
              "            await google.colab.kernel.invokeFunction('convertToInteractive',\n",
              "                                                     [key], {});\n",
              "          if (!dataTable) return;\n",
              "\n",
              "          const docLinkHtml = 'Like what you see? Visit the ' +\n",
              "            '<a target=\"_blank\" href=https://colab.research.google.com/notebooks/data_table.ipynb>data table notebook</a>'\n",
              "            + ' to learn more about interactive tables.';\n",
              "          element.innerHTML = '';\n",
              "          dataTable['output_type'] = 'display_data';\n",
              "          await google.colab.output.renderOutput(dataTable, element);\n",
              "          const docLink = document.createElement('div');\n",
              "          docLink.innerHTML = docLinkHtml;\n",
              "          element.appendChild(docLink);\n",
              "        }\n",
              "      </script>\n",
              "    </div>\n",
              "  </div>\n",
              "  "
            ]
          },
          "metadata": {},
          "execution_count": 12
        }
      ],
      "source": [
        "data.reset_index(drop=True, inplace=True)\n",
        "data.head()"
      ]
    },
    {
      "cell_type": "code",
      "execution_count": 13,
      "id": "af521025",
      "metadata": {
        "id": "af521025"
      },
      "outputs": [],
      "source": [
        "data.to_csv('/content/gdrive/MyDrive/CIC-Darknet/darknet.csv', index=False)"
      ]
    }
  ],
  "metadata": {
    "kernelspec": {
      "display_name": "Python 3 (ipykernel)",
      "language": "python",
      "name": "python3"
    },
    "language_info": {
      "codemirror_mode": {
        "name": "ipython",
        "version": 3
      },
      "file_extension": ".py",
      "mimetype": "text/x-python",
      "name": "python",
      "nbconvert_exporter": "python",
      "pygments_lexer": "ipython3",
      "version": "3.8.10"
    },
    "colab": {
      "name": "1.Data Labelling.ipynb",
      "provenance": [],
      "collapsed_sections": []
    }
  },
  "nbformat": 4,
  "nbformat_minor": 5
}