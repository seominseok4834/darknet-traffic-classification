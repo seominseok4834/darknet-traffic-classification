{
  "cells": [
    {
      "cell_type": "code",
      "source": [
        "from google.colab import drive\n",
        "drive.mount('/content/gdrive/')"
      ],
      "metadata": {
        "colab": {
          "base_uri": "https://localhost:8080/"
        },
        "id": "z8bVLG4DI4h5",
        "outputId": "fcee02c7-825d-4d5b-81d9-0db41b9d0978"
      },
      "id": "z8bVLG4DI4h5",
      "execution_count": 1,
      "outputs": [
        {
          "output_type": "stream",
          "name": "stdout",
          "text": [
            "Mounted at /content/gdrive/\n"
          ]
        }
      ]
    },
    {
      "cell_type": "code",
      "execution_count": 2,
      "id": "330bdbfd",
      "metadata": {
        "colab": {
          "base_uri": "https://localhost:8080/"
        },
        "id": "330bdbfd",
        "outputId": "73b3f6a1-03f2-42df-cad8-380e86ad314b"
      },
      "outputs": [
        {
          "output_type": "execute_result",
          "data": {
            "text/plain": [
              "(141481, 80)"
            ]
          },
          "metadata": {},
          "execution_count": 2
        }
      ],
      "source": [
        "import numpy as np\n",
        "import pandas as pd\n",
        "\n",
        "traffic_df = pd.read_csv('/content/gdrive/MyDrive/CIC-Darknet/darknet_log.csv')\n",
        "traffic_df.shape"
      ]
    },
    {
      "cell_type": "markdown",
      "id": "5df51b87",
      "metadata": {
        "id": "5df51b87"
      },
      "source": [
        "### Drop Columns"
      ]
    },
    {
      "cell_type": "code",
      "execution_count": 3,
      "id": "531df6ed",
      "metadata": {
        "colab": {
          "base_uri": "https://localhost:8080/",
          "height": 314
        },
        "id": "531df6ed",
        "outputId": "ce388814-ced3-4dc8-9e71-3c98d9facb2f"
      },
      "outputs": [
        {
          "output_type": "execute_result",
          "data": {
            "text/plain": [
              "   Src Port  Dst Port  Flow Duration  Total Fwd Packet  \\\n",
              "0     57158       443            229                 1   \n",
              "1     57159       443            407                 1   \n",
              "2     57160       443            431                 1   \n",
              "3     49134       443            359                 1   \n",
              "4     34697     19305       10778451               591   \n",
              "\n",
              "   Total Length of Fwd Packet  Total Length of Bwd Packet  \\\n",
              "0                           0                           0   \n",
              "1                           0                           0   \n",
              "2                           0                           0   \n",
              "3                           0                           0   \n",
              "4                       64530                        6659   \n",
              "\n",
              "   Fwd Packet Length Std  Flow Bytes/s  Flow Packets/s  Flow IAT Max  ...  \\\n",
              "0                  0.000      0.000000        9.075050           229  ...   \n",
              "1                  0.000      0.000000        8.500048           407  ...   \n",
              "2                  0.000      0.000000        8.442765           431  ...   \n",
              "3                  0.000      0.000000        8.625515           359  ...   \n",
              "4                  3.148      8.795696        4.531983         78158  ...   \n",
              "\n",
              "   Packet Length Std  PSH Flag Count  Bwd Packet/Bulk Avg  Bwd Bulk Rate Avg  \\\n",
              "0               0.00               0                    0                  0   \n",
              "1               0.00               0                    0                  0   \n",
              "2               0.00               0                    0                  0   \n",
              "3               0.00               0                    0                  0   \n",
              "4               4.06             659                  659               6605   \n",
              "\n",
              "   FWD Init Win Bytes  Bwd Init Win Bytes  Idle Mean   Idle Max   Idle Min  \\\n",
              "0                1892                1047   0.000000   0.000000   0.000000   \n",
              "1                1987                1047   0.000000   0.000000   0.000000   \n",
              "2                2049                1047   0.000000   0.000000   0.000000   \n",
              "3                2008                1047   0.000000   0.000000   0.000000   \n",
              "4                1382                2320  34.901863  34.901863  34.901863   \n",
              "\n",
              "   target  \n",
              "0       0  \n",
              "1       0  \n",
              "2       0  \n",
              "3       0  \n",
              "4       0  \n",
              "\n",
              "[5 rows x 30 columns]"
            ],
            "text/html": [
              "\n",
              "  <div id=\"df-743e36d8-3533-4158-9dcb-de19ccba6dfd\">\n",
              "    <div class=\"colab-df-container\">\n",
              "      <div>\n",
              "<style scoped>\n",
              "    .dataframe tbody tr th:only-of-type {\n",
              "        vertical-align: middle;\n",
              "    }\n",
              "\n",
              "    .dataframe tbody tr th {\n",
              "        vertical-align: top;\n",
              "    }\n",
              "\n",
              "    .dataframe thead th {\n",
              "        text-align: right;\n",
              "    }\n",
              "</style>\n",
              "<table border=\"1\" class=\"dataframe\">\n",
              "  <thead>\n",
              "    <tr style=\"text-align: right;\">\n",
              "      <th></th>\n",
              "      <th>Src Port</th>\n",
              "      <th>Dst Port</th>\n",
              "      <th>Flow Duration</th>\n",
              "      <th>Total Fwd Packet</th>\n",
              "      <th>Total Length of Fwd Packet</th>\n",
              "      <th>Total Length of Bwd Packet</th>\n",
              "      <th>Fwd Packet Length Std</th>\n",
              "      <th>Flow Bytes/s</th>\n",
              "      <th>Flow Packets/s</th>\n",
              "      <th>Flow IAT Max</th>\n",
              "      <th>...</th>\n",
              "      <th>Packet Length Std</th>\n",
              "      <th>PSH Flag Count</th>\n",
              "      <th>Bwd Packet/Bulk Avg</th>\n",
              "      <th>Bwd Bulk Rate Avg</th>\n",
              "      <th>FWD Init Win Bytes</th>\n",
              "      <th>Bwd Init Win Bytes</th>\n",
              "      <th>Idle Mean</th>\n",
              "      <th>Idle Max</th>\n",
              "      <th>Idle Min</th>\n",
              "      <th>target</th>\n",
              "    </tr>\n",
              "  </thead>\n",
              "  <tbody>\n",
              "    <tr>\n",
              "      <th>0</th>\n",
              "      <td>57158</td>\n",
              "      <td>443</td>\n",
              "      <td>229</td>\n",
              "      <td>1</td>\n",
              "      <td>0</td>\n",
              "      <td>0</td>\n",
              "      <td>0.000</td>\n",
              "      <td>0.000000</td>\n",
              "      <td>9.075050</td>\n",
              "      <td>229</td>\n",
              "      <td>...</td>\n",
              "      <td>0.00</td>\n",
              "      <td>0</td>\n",
              "      <td>0</td>\n",
              "      <td>0</td>\n",
              "      <td>1892</td>\n",
              "      <td>1047</td>\n",
              "      <td>0.000000</td>\n",
              "      <td>0.000000</td>\n",
              "      <td>0.000000</td>\n",
              "      <td>0</td>\n",
              "    </tr>\n",
              "    <tr>\n",
              "      <th>1</th>\n",
              "      <td>57159</td>\n",
              "      <td>443</td>\n",
              "      <td>407</td>\n",
              "      <td>1</td>\n",
              "      <td>0</td>\n",
              "      <td>0</td>\n",
              "      <td>0.000</td>\n",
              "      <td>0.000000</td>\n",
              "      <td>8.500048</td>\n",
              "      <td>407</td>\n",
              "      <td>...</td>\n",
              "      <td>0.00</td>\n",
              "      <td>0</td>\n",
              "      <td>0</td>\n",
              "      <td>0</td>\n",
              "      <td>1987</td>\n",
              "      <td>1047</td>\n",
              "      <td>0.000000</td>\n",
              "      <td>0.000000</td>\n",
              "      <td>0.000000</td>\n",
              "      <td>0</td>\n",
              "    </tr>\n",
              "    <tr>\n",
              "      <th>2</th>\n",
              "      <td>57160</td>\n",
              "      <td>443</td>\n",
              "      <td>431</td>\n",
              "      <td>1</td>\n",
              "      <td>0</td>\n",
              "      <td>0</td>\n",
              "      <td>0.000</td>\n",
              "      <td>0.000000</td>\n",
              "      <td>8.442765</td>\n",
              "      <td>431</td>\n",
              "      <td>...</td>\n",
              "      <td>0.00</td>\n",
              "      <td>0</td>\n",
              "      <td>0</td>\n",
              "      <td>0</td>\n",
              "      <td>2049</td>\n",
              "      <td>1047</td>\n",
              "      <td>0.000000</td>\n",
              "      <td>0.000000</td>\n",
              "      <td>0.000000</td>\n",
              "      <td>0</td>\n",
              "    </tr>\n",
              "    <tr>\n",
              "      <th>3</th>\n",
              "      <td>49134</td>\n",
              "      <td>443</td>\n",
              "      <td>359</td>\n",
              "      <td>1</td>\n",
              "      <td>0</td>\n",
              "      <td>0</td>\n",
              "      <td>0.000</td>\n",
              "      <td>0.000000</td>\n",
              "      <td>8.625515</td>\n",
              "      <td>359</td>\n",
              "      <td>...</td>\n",
              "      <td>0.00</td>\n",
              "      <td>0</td>\n",
              "      <td>0</td>\n",
              "      <td>0</td>\n",
              "      <td>2008</td>\n",
              "      <td>1047</td>\n",
              "      <td>0.000000</td>\n",
              "      <td>0.000000</td>\n",
              "      <td>0.000000</td>\n",
              "      <td>0</td>\n",
              "    </tr>\n",
              "    <tr>\n",
              "      <th>4</th>\n",
              "      <td>34697</td>\n",
              "      <td>19305</td>\n",
              "      <td>10778451</td>\n",
              "      <td>591</td>\n",
              "      <td>64530</td>\n",
              "      <td>6659</td>\n",
              "      <td>3.148</td>\n",
              "      <td>8.795696</td>\n",
              "      <td>4.531983</td>\n",
              "      <td>78158</td>\n",
              "      <td>...</td>\n",
              "      <td>4.06</td>\n",
              "      <td>659</td>\n",
              "      <td>659</td>\n",
              "      <td>6605</td>\n",
              "      <td>1382</td>\n",
              "      <td>2320</td>\n",
              "      <td>34.901863</td>\n",
              "      <td>34.901863</td>\n",
              "      <td>34.901863</td>\n",
              "      <td>0</td>\n",
              "    </tr>\n",
              "  </tbody>\n",
              "</table>\n",
              "<p>5 rows × 30 columns</p>\n",
              "</div>\n",
              "      <button class=\"colab-df-convert\" onclick=\"convertToInteractive('df-743e36d8-3533-4158-9dcb-de19ccba6dfd')\"\n",
              "              title=\"Convert this dataframe to an interactive table.\"\n",
              "              style=\"display:none;\">\n",
              "        \n",
              "  <svg xmlns=\"http://www.w3.org/2000/svg\" height=\"24px\"viewBox=\"0 0 24 24\"\n",
              "       width=\"24px\">\n",
              "    <path d=\"M0 0h24v24H0V0z\" fill=\"none\"/>\n",
              "    <path d=\"M18.56 5.44l.94 2.06.94-2.06 2.06-.94-2.06-.94-.94-2.06-.94 2.06-2.06.94zm-11 1L8.5 8.5l.94-2.06 2.06-.94-2.06-.94L8.5 2.5l-.94 2.06-2.06.94zm10 10l.94 2.06.94-2.06 2.06-.94-2.06-.94-.94-2.06-.94 2.06-2.06.94z\"/><path d=\"M17.41 7.96l-1.37-1.37c-.4-.4-.92-.59-1.43-.59-.52 0-1.04.2-1.43.59L10.3 9.45l-7.72 7.72c-.78.78-.78 2.05 0 2.83L4 21.41c.39.39.9.59 1.41.59.51 0 1.02-.2 1.41-.59l7.78-7.78 2.81-2.81c.8-.78.8-2.07 0-2.86zM5.41 20L4 18.59l7.72-7.72 1.47 1.35L5.41 20z\"/>\n",
              "  </svg>\n",
              "      </button>\n",
              "      \n",
              "  <style>\n",
              "    .colab-df-container {\n",
              "      display:flex;\n",
              "      flex-wrap:wrap;\n",
              "      gap: 12px;\n",
              "    }\n",
              "\n",
              "    .colab-df-convert {\n",
              "      background-color: #E8F0FE;\n",
              "      border: none;\n",
              "      border-radius: 50%;\n",
              "      cursor: pointer;\n",
              "      display: none;\n",
              "      fill: #1967D2;\n",
              "      height: 32px;\n",
              "      padding: 0 0 0 0;\n",
              "      width: 32px;\n",
              "    }\n",
              "\n",
              "    .colab-df-convert:hover {\n",
              "      background-color: #E2EBFA;\n",
              "      box-shadow: 0px 1px 2px rgba(60, 64, 67, 0.3), 0px 1px 3px 1px rgba(60, 64, 67, 0.15);\n",
              "      fill: #174EA6;\n",
              "    }\n",
              "\n",
              "    [theme=dark] .colab-df-convert {\n",
              "      background-color: #3B4455;\n",
              "      fill: #D2E3FC;\n",
              "    }\n",
              "\n",
              "    [theme=dark] .colab-df-convert:hover {\n",
              "      background-color: #434B5C;\n",
              "      box-shadow: 0px 1px 3px 1px rgba(0, 0, 0, 0.15);\n",
              "      filter: drop-shadow(0px 1px 2px rgba(0, 0, 0, 0.3));\n",
              "      fill: #FFFFFF;\n",
              "    }\n",
              "  </style>\n",
              "\n",
              "      <script>\n",
              "        const buttonEl =\n",
              "          document.querySelector('#df-743e36d8-3533-4158-9dcb-de19ccba6dfd button.colab-df-convert');\n",
              "        buttonEl.style.display =\n",
              "          google.colab.kernel.accessAllowed ? 'block' : 'none';\n",
              "\n",
              "        async function convertToInteractive(key) {\n",
              "          const element = document.querySelector('#df-743e36d8-3533-4158-9dcb-de19ccba6dfd');\n",
              "          const dataTable =\n",
              "            await google.colab.kernel.invokeFunction('convertToInteractive',\n",
              "                                                     [key], {});\n",
              "          if (!dataTable) return;\n",
              "\n",
              "          const docLinkHtml = 'Like what you see? Visit the ' +\n",
              "            '<a target=\"_blank\" href=https://colab.research.google.com/notebooks/data_table.ipynb>data table notebook</a>'\n",
              "            + ' to learn more about interactive tables.';\n",
              "          element.innerHTML = '';\n",
              "          dataTable['output_type'] = 'display_data';\n",
              "          await google.colab.output.renderOutput(dataTable, element);\n",
              "          const docLink = document.createElement('div');\n",
              "          docLink.innerHTML = docLinkHtml;\n",
              "          element.appendChild(docLink);\n",
              "        }\n",
              "      </script>\n",
              "    </div>\n",
              "  </div>\n",
              "  "
            ]
          },
          "metadata": {},
          "execution_count": 3
        }
      ],
      "source": [
        "drop_columns = [2, 5, 8, 9, 10, 12, 13, 14, 15, 18, 19, 23, 24, 25, 28, 32, 33, 34, 35, 37, 40, 41, 42, 44, 45, 46, 47, 49, 50, 51, 52, 53, 54, 55, 56, 57, 58, 59, 60, 63, 64, 65, 66, 69, 70, 71, 72, 73, 74, 76]\n",
        "traffic_df.drop(traffic_df.columns[drop_columns], axis=1 ,inplace=True)\n",
        "traffic_df.head()"
      ]
    },
    {
      "cell_type": "markdown",
      "id": "d98c1859",
      "metadata": {
        "id": "d98c1859"
      },
      "source": [
        "### Data Split"
      ]
    },
    {
      "cell_type": "code",
      "execution_count": 4,
      "id": "516e60d9",
      "metadata": {
        "colab": {
          "base_uri": "https://localhost:8080/"
        },
        "id": "516e60d9",
        "outputId": "bf8ea0ba-d959-48db-f425-a4618604fd05"
      },
      "outputs": [
        {
          "output_type": "stream",
          "name": "stdout",
          "text": [
            "(84888, 29) (84888,)\n",
            "(56593, 29) (56593,)\n"
          ]
        }
      ],
      "source": [
        "from sklearn.model_selection import train_test_split\n",
        "\n",
        "y_traffic_df = traffic_df['target']\n",
        "X_traffic_df = traffic_df.drop('target', axis=1)\n",
        "\n",
        "X_train, X_test, y_train, y_test = train_test_split(X_traffic_df, y_traffic_df, stratify=y_traffic_df, test_size=0.4, random_state=11)\n",
        "print(X_train.shape, y_train.shape)\n",
        "print(X_test.shape, y_test.shape)"
      ]
    },
    {
      "cell_type": "code",
      "execution_count": 5,
      "id": "99408cf6",
      "metadata": {
        "colab": {
          "base_uri": "https://localhost:8080/"
        },
        "id": "99408cf6",
        "outputId": "d6e954f8-cb65-43c3-bc56-f531353eae61"
      },
      "outputs": [
        {
          "output_type": "stream",
          "name": "stdout",
          "text": [
            "(28296, 29) (28296,)\n",
            "(28297, 29) (28297,)\n"
          ]
        }
      ],
      "source": [
        "X_vali, X_test, y_vali, y_test = train_test_split(X_test, y_test, stratify=y_test, test_size=0.5, random_state=11)\n",
        "print(X_vali.shape, y_vali.shape)\n",
        "print(X_test.shape, y_test.shape)"
      ]
    },
    {
      "cell_type": "code",
      "execution_count": 6,
      "id": "f538a51f",
      "metadata": {
        "colab": {
          "base_uri": "https://localhost:8080/"
        },
        "id": "f538a51f",
        "outputId": "c83f8b0b-a096-4c04-97d4-df098532a2c9"
      },
      "outputs": [
        {
          "output_type": "execute_result",
          "data": {
            "text/plain": [
              "16"
            ]
          },
          "metadata": {},
          "execution_count": 6
        }
      ],
      "source": [
        "label_name = ['benign_Audio-Streaming', 'benign_Browsing', 'benign_Chat', 'benign_Email', 'benign_File-Transfer', 'benign_P2P', 'benign_VOIP', 'benign_Video-Streaming', 'darknet_Audio-Streaming', 'darknet_Browsing', 'darknet_Chat', 'darknet_Email', 'darknet_File-Transfer', 'darknet_P2P', 'darknet_VOIP', 'darknet_Video-Streaming']\n",
        "len(label_name)"
      ]
    },
    {
      "cell_type": "markdown",
      "id": "1e8bafa3",
      "metadata": {
        "id": "1e8bafa3"
      },
      "source": [
        "### Model Train / Validation"
      ]
    },
    {
      "cell_type": "code",
      "execution_count": 7,
      "id": "3c4b9892",
      "metadata": {
        "colab": {
          "base_uri": "https://localhost:8080/"
        },
        "id": "3c4b9892",
        "outputId": "12a13d95-3df5-4e52-cb31-896bbb2c5c44"
      },
      "outputs": [
        {
          "output_type": "stream",
          "name": "stdout",
          "text": [
            "LGBMClassifier 정확도:0.9072\n",
            "[[ 629   31    4    1   19   13    1  227   26    0    1    0    1    0\n",
            "     0    1]\n",
            " [   5 6386    2    0   74    3    0   37    0    0    0    0    1    0\n",
            "     0    1]\n",
            " [   3   16  989  206    8    3   99   17    6    0    1    1    2    0\n",
            "    35    0]\n",
            " [   0    1  392  622    4    0   63    0    2    0    0    2   10    0\n",
            "    16    0]\n",
            " [  12  194   19    5 1416    6    3   51    1    0    0    0    1    0\n",
            "     2    2]\n",
            " [   0    2    0    0    0 9657    0    0    1    0    0    0    0    0\n",
            "     0    0]\n",
            " [   0    0  142   70    1    0  199    0    1    0    0    0    1    0\n",
            "     6    0]\n",
            " [ 237  133    3    1   49    3    0 1215   32    0    1    0    4    0\n",
            "     1    1]\n",
            " [  20    0    1    1    0    0    0   23 2590    0    7    0    6    0\n",
            "     0    9]\n",
            " [   0    0    0    3    0    0    0    0    1   48    0    0    0    0\n",
            "     0    1]\n",
            " [   1    0    0    0    0    0    0    9    8    1  886    0    2    0\n",
            "     0    1]\n",
            " [   0    2    0    3    1    0    0    0    0    0    2  106    3    0\n",
            "     0    0]\n",
            " [   1    2    0    3    2    0    0    2    4    0   10    1  493    0\n",
            "     3    1]\n",
            " [   0    0    0    0    0    0    0    0    3    0    0    0    0   41\n",
            "     0    0]\n",
            " [   1    0   78   31    0    0    6    7    1    0    0    0    2    0\n",
            "   164    3]\n",
            " [   3    0    0    0    3    0    0   19   13    0    0    0    1    0\n",
            "     1  229]] \n",
            "\n",
            "                         precision    recall  f1-score   support\n",
            "\n",
            " benign_Audio-Streaming       0.69      0.66      0.67       954\n",
            "        benign_Browsing       0.94      0.98      0.96      6509\n",
            "            benign_Chat       0.61      0.71      0.66      1386\n",
            "           benign_Email       0.66      0.56      0.60      1112\n",
            "   benign_File-Transfer       0.90      0.83      0.86      1712\n",
            "             benign_P2P       1.00      1.00      1.00      9660\n",
            "            benign_VOIP       0.54      0.47      0.50       420\n",
            " benign_Video-Streaming       0.76      0.72      0.74      1680\n",
            "darknet_Audio-Streaming       0.96      0.97      0.97      2657\n",
            "       darknet_Browsing       0.98      0.91      0.94        53\n",
            "           darknet_Chat       0.98      0.98      0.98       908\n",
            "          darknet_Email       0.96      0.91      0.93       117\n",
            "  darknet_File-Transfer       0.94      0.94      0.94       522\n",
            "            darknet_P2P       1.00      0.93      0.96        44\n",
            "           darknet_VOIP       0.72      0.56      0.63       293\n",
            "darknet_Video-Streaming       0.92      0.85      0.88       269\n",
            "\n",
            "               accuracy                           0.91     28296\n",
            "              macro avg       0.85      0.81      0.83     28296\n",
            "           weighted avg       0.91      0.91      0.91     28296\n",
            " \n",
            "\n"
          ]
        }
      ],
      "source": [
        "from sklearn.metrics import accuracy_score\n",
        "from sklearn.metrics import confusion_matrix\n",
        "from sklearn.metrics import classification_report\n",
        "from lightgbm import LGBMClassifier\n",
        "import warnings\n",
        "warnings.filterwarnings('ignore')\n",
        "\n",
        "lgbm_wrapper = LGBMClassifier(random_state=11, n_estimators=500, boost_from_average=False)\n",
        "lgbm_wrapper.fit(X_train, y_train)\n",
        "lgbm_pred = lgbm_wrapper.predict(X_vali)\n",
        "\n",
        "print('{0} 정확도:{1:.4f}'.format(lgbm_wrapper.__class__.__name__, accuracy_score(y_vali, lgbm_pred)))\n",
        "print(confusion_matrix(y_vali, lgbm_pred), '\\n')\n",
        "print(classification_report(y_vali, lgbm_pred, target_names=label_name), '\\n')"
      ]
    },
    {
      "cell_type": "markdown",
      "source": [
        "### Feature Importance"
      ],
      "metadata": {
        "id": "1wvi6RJbHhb2"
      },
      "id": "1wvi6RJbHhb2"
    },
    {
      "cell_type": "code",
      "source": [
        "import matplotlib.pyplot as plt\n",
        "import seaborn as sns\n",
        "import numpy as np\n",
        "%matplotlib inline\n",
        "\n",
        "def print_feature_importances(model):\n",
        "    columns = traffic_df.drop('target', axis=1, inplace=False).columns\n",
        "    \n",
        "    ftr_importances_values = model.feature_importances_\n",
        "    ftr_importances = pd.Series(ftr_importances_values, index=columns)\n",
        "    \n",
        "    ftr_importances = ftr_importances.sort_values(ascending=False)[:29]\n",
        "    \n",
        "    #feautre importance를 column 별로 시각화하기\n",
        "    plt.figure(figsize=(8, 6))\n",
        "    plt.title('{0} Feature Importances'.format(model.__class__.__name__))\n",
        "    sns.barplot(x=ftr_importances, y=ftr_importances.index)\n",
        "    plt.show()"
      ],
      "metadata": {
        "id": "KSgDuxb6Hih5"
      },
      "id": "KSgDuxb6Hih5",
      "execution_count": 8,
      "outputs": []
    },
    {
      "cell_type": "code",
      "source": [
        "print_feature_importances(lgbm_wrapper)"
      ],
      "metadata": {
        "colab": {
          "base_uri": "https://localhost:8080/",
          "height": 390
        },
        "id": "AjH2dkGlHjQE",
        "outputId": "4b206d32-00a1-473c-be25-e009be13b054"
      },
      "id": "AjH2dkGlHjQE",
      "execution_count": 9,
      "outputs": [
        {
          "output_type": "display_data",
          "data": {
            "text/plain": [
              "<Figure size 576x432 with 1 Axes>"
            ],
            "image/png": "[encoded data removed]"
          },
          "metadata": {
            "needs_background": "light"
          }
        }
      ]
    }
  ],
  "metadata": {
    "kernelspec": {
      "display_name": "Python 3 (ipykernel)",
      "language": "python",
      "name": "python3"
    },
    "language_info": {
      "codemirror_mode": {
        "name": "ipython",
        "version": 3
      },
      "file_extension": ".py",
      "mimetype": "text/x-python",
      "name": "python",
      "nbconvert_exporter": "python",
      "pygments_lexer": "ipython3",
      "version": "3.8.10"
    },
    "colab": {
      "name": "5.LightGBM Test (29 Features).ipynb",
      "provenance": [],
      "collapsed_sections": []
    }
  },
  "nbformat": 4,
  "nbformat_minor": 5
}